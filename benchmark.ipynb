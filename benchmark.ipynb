{
 "cells": [
  {
   "cell_type": "markdown",
   "metadata": {},
   "source": [
    "# Benchmarking of various implementations of FADDEEVA's error functions"
   ]
  },
  {
   "cell_type": "markdown",
   "metadata": {},
   "source": [
    "## I. Setup"
   ]
  },
  {
   "cell_type": "markdown",
   "metadata": {},
   "source": [
    "Import the multiprecision library `mpmath` as a reference for accuracy benchmarks:"
   ]
  },
  {
   "cell_type": "code",
   "execution_count": 1,
   "metadata": {
    "collapsed": false
   },
   "outputs": [],
   "source": [
    "import mpmath"
   ]
  },
  {
   "cell_type": "markdown",
   "metadata": {},
   "source": [
    "Import the rest of the usual lot:"
   ]
  },
  {
   "cell_type": "code",
   "execution_count": 2,
   "metadata": {
    "collapsed": true
   },
   "outputs": [],
   "source": [
    "import numpy as np\n",
    "import scipy\n",
    "import ctypes\n",
    "import sys\n",
    "import time\n",
    "%load_ext Cython"
   ]
  },
  {
   "cell_type": "markdown",
   "metadata": {},
   "source": [
    "a timer class for a more convenient timing"
   ]
  },
  {
   "cell_type": "code",
   "execution_count": 3,
   "metadata": {
    "collapsed": true
   },
   "outputs": [],
   "source": [
    "class Timer(object):\n",
    "    '''Uses time.time() bc timer.clock() doesn't work with GPU/...'''\n",
    "    def __enter__(self):\n",
    "        self.start = time.time()\n",
    "        return self\n",
    "\n",
    "    def __exit__(self, *args):\n",
    "        self.end = time.time()\n",
    "        self.interval_s = self.end - self.start"
   ]
  },
  {
   "cell_type": "markdown",
   "metadata": {},
   "source": [
    "The dictionary `wofz_impl` accesses the various function implementations.\n",
    "\n",
    "Input interface is `wofz_impl[<implementation-folder>](x, y)`: \n",
    "`x` is the real and `y` is the imaginary part of the input, both should be numpy arrays (i.e. provide the ctypes field)."
   ]
  },
  {
   "cell_type": "code",
   "execution_count": 4,
   "metadata": {
    "collapsed": true
   },
   "outputs": [],
   "source": [
    "wofz_impl = dict()"
   ]
  },
  {
   "cell_type": "markdown",
   "metadata": {},
   "source": [
    "For argument types needing double pointers, use the ctypes pointer provided by NumPy:"
   ]
  },
  {
   "cell_type": "code",
   "execution_count": 5,
   "metadata": {
    "collapsed": true
   },
   "outputs": [],
   "source": [
    "from numpy.ctypeslib import ndpointer\n",
    "np_double_p = ndpointer(dtype=np.float64)"
   ]
  },
  {
   "cell_type": "markdown",
   "metadata": {},
   "source": [
    "`ctypes` libraries are loaded into the dictionary `dlls`:"
   ]
  },
  {
   "cell_type": "code",
   "execution_count": 6,
   "metadata": {
    "collapsed": true
   },
   "outputs": [],
   "source": [
    "dlls = dict()"
   ]
  },
  {
   "cell_type": "markdown",
   "metadata": {},
   "source": [
    "### mpmath (reference)"
   ]
  },
  {
   "cell_type": "markdown",
   "metadata": {},
   "source": [
    "set the precision:"
   ]
  },
  {
   "cell_type": "code",
   "execution_count": 7,
   "metadata": {
    "collapsed": false
   },
   "outputs": [],
   "source": [
    "mpmath.mp.dps = 50"
   ]
  },
  {
   "cell_type": "markdown",
   "metadata": {},
   "source": [
    "prepare the `wofz_impl` entry:"
   ]
  },
  {
   "cell_type": "code",
   "execution_count": 8,
   "metadata": {
    "collapsed": true
   },
   "outputs": [],
   "source": [
    "def wofz(x, y):\n",
    "    z = mpmath.mpc(x, y)\n",
    "    w = mpmath.exp(-z**2) * mpmath.erfc(z * -1j)\n",
    "    return w.real, w.imag\n",
    "wofz_impl['mp'] = np.vectorize(wofz)"
   ]
  },
  {
   "cell_type": "markdown",
   "metadata": {},
   "source": [
    "### scipy (version > 0.14)\n",
    "\n",
    "http://ab-initio.mit.edu/wiki/index.php/Faddeeva_Package"
   ]
  },
  {
   "cell_type": "code",
   "execution_count": 9,
   "metadata": {
    "collapsed": false
   },
   "outputs": [],
   "source": [
    "from scipy.special import wofz as scipy_wofz"
   ]
  },
  {
   "cell_type": "markdown",
   "metadata": {},
   "source": [
    "prepare the `wofz_impl` entry:"
   ]
  },
  {
   "cell_type": "code",
   "execution_count": 10,
   "metadata": {
    "collapsed": true
   },
   "outputs": [],
   "source": [
    "def wofz(x, y):\n",
    "    z = scipy_wofz(x + 1j*y)\n",
    "    return z.real, z.imag\n",
    "wofz_impl['scipy'] = wofz"
   ]
  },
  {
   "cell_type": "markdown",
   "metadata": {},
   "source": [
    "### cernlib-c\n"
   ]
  },
  {
   "cell_type": "markdown",
   "metadata": {},
   "source": [
    "loading the external shared C library:"
   ]
  },
  {
   "cell_type": "code",
   "execution_count": 11,
   "metadata": {
    "collapsed": false
   },
   "outputs": [],
   "source": [
    "dlls['c'] = ctypes.cdll.LoadLibrary('cernlib-c/wofz.so')\n",
    "dlls['c'].cerrf.restype = None\n",
    "dlls['c'].cerrf.argtypes = [ctypes.c_double, ctypes.c_double, np_double_p, np_double_p]"
   ]
  },
  {
   "cell_type": "markdown",
   "metadata": {},
   "source": [
    "prepare the `wofz_impl` entry:"
   ]
  },
  {
   "cell_type": "code",
   "execution_count": 12,
   "metadata": {
    "collapsed": false
   },
   "outputs": [],
   "source": [
    "def wofz(x, y):\n",
    "    in_real = ctypes.c_double(x)\n",
    "    in_imag = ctypes.c_double(y)\n",
    "    out_real = np.empty(1, dtype=np.float64)\n",
    "    out_imag = np.empty(1, dtype=np.float64)\n",
    "    dlls['c'].cerrf(in_real, in_imag, out_real, out_imag)\n",
    "    return out_real[0], out_imag[0]\n",
    "wofz_impl['c'] = np.vectorize(wofz)"
   ]
  },
  {
   "cell_type": "markdown",
   "metadata": {},
   "source": [
    "### cernlib-cuda-1"
   ]
  },
  {
   "cell_type": "markdown",
   "metadata": {},
   "source": [
    "try whether PyCUDA is available for the CUDA FADDEEVA version:"
   ]
  },
  {
   "cell_type": "code",
   "execution_count": 13,
   "metadata": {
    "collapsed": false
   },
   "outputs": [],
   "source": [
    "i_pycuda = False\n",
    "try:\n",
    "    from pycuda.autoinit import context\n",
    "    from pycuda import gpuarray\n",
    "    from pycuda.elementwise import ElementwiseKernel\n",
    "    i_pycuda = True\n",
    "except ImportError as e:\n",
    "    print 'No PyCUDA available, as per error message:'\n",
    "    print e.message"
   ]
  },
  {
   "cell_type": "markdown",
   "metadata": {},
   "source": [
    "prepare the CUDA kernel for the wofz function:"
   ]
  },
  {
   "cell_type": "code",
   "execution_count": 14,
   "metadata": {
    "collapsed": false
   },
   "outputs": [],
   "source": [
    "if i_pycuda:\n",
    "    kernel = ElementwiseKernel(\n",
    "        'double* in_real, double* in_imag, double* out_real, double* out_imag',\n",
    "#         'out_real[i] = in_real[i]; out_imag[i] = in_imag[i]',\n",
    "        'wofz(in_real[i], in_imag[i], &out_real[i], &out_imag[i]);',\n",
    "        'wofz_kernel',\n",
    "        preamble=open('cernlib-cuda-1/wofz.cu', 'r').read()\n",
    "    )"
   ]
  },
  {
   "cell_type": "markdown",
   "metadata": {},
   "source": [
    "prepare the `wofz_impl` entry:"
   ]
  },
  {
   "cell_type": "code",
   "execution_count": 15,
   "metadata": {
    "collapsed": true
   },
   "outputs": [],
   "source": [
    "if i_pycuda:\n",
    "    def wofz(x, y):\n",
    "        in_real = gpuarray.to_gpu(np.atleast_1d(x).astype(np.float64))\n",
    "        in_imag = gpuarray.to_gpu(np.atleast_1d(y).astype(np.float64))\n",
    "        out_real = gpuarray.empty(in_real.shape, dtype=np.float64)\n",
    "        out_imag = gpuarray.empty(in_imag.shape, dtype=np.float64)\n",
    "        kernel(in_real, in_imag, out_real, out_imag)\n",
    "        return out_real.get(), out_imag.get()\n",
    "    wofz_impl['cuda'] = wofz"
   ]
  },
  {
   "cell_type": "markdown",
   "metadata": {},
   "source": [
    "### cernlib-f90-1"
   ]
  },
  {
   "cell_type": "markdown",
   "metadata": {},
   "source": [
    "import and numpy-vectorise the first f90 version:"
   ]
  },
  {
   "cell_type": "code",
   "execution_count": 16,
   "metadata": {
    "collapsed": false
   },
   "outputs": [],
   "source": [
    "sys.path.append('cernlib-f90-1')\n",
    "from wwerf import ccperrfr\n",
    "\n",
    "wofz_impl['f90-1'] = np.vectorize(ccperrfr)"
   ]
  },
  {
   "cell_type": "markdown",
   "metadata": {},
   "source": [
    "### cernlib-f90-2"
   ]
  },
  {
   "cell_type": "markdown",
   "metadata": {},
   "source": [
    "import and numpy-vectorise the second f90 version:"
   ]
  },
  {
   "cell_type": "code",
   "execution_count": 17,
   "metadata": {
    "collapsed": false
   },
   "outputs": [],
   "source": [
    "sys.path.append('cernlib-f90-2')\n",
    "from wwerf2 import errf\n",
    "\n",
    "wofz_impl['f90-2'] = np.vectorize(errf)"
   ]
  },
  {
   "cell_type": "markdown",
   "metadata": {},
   "source": [
    "### cernlib-python-1"
   ]
  },
  {
   "cell_type": "code",
   "execution_count": 18,
   "metadata": {
    "collapsed": true
   },
   "outputs": [],
   "source": [
    "sys.path.append('cernlib-python-1')\n",
    "from mywwerf import wwerf\n",
    "\n",
    "wofz_impl['py'] = np.vectorize(wwerf)"
   ]
  },
  {
   "cell_type": "markdown",
   "metadata": {},
   "source": [
    "### cernlib-root-adapted"
   ]
  },
  {
   "cell_type": "code",
   "execution_count": 19,
   "metadata": {
    "collapsed": false
   },
   "outputs": [],
   "source": [
    "dlls['c-root-adapt'] = ctypes.cdll.LoadLibrary('cernlib-root-adapted/liberfc.so')\n",
    "#wofz\n",
    "dlls['c-root-adapt'].wofz.restype = None\n",
    "dlls['c-root-adapt'].wofz.argtypes = [ctypes.c_double, ctypes.c_double, np_double_p, np_double_p]\n",
    "\n",
    "def wofz_root(x, y):\n",
    "    in_real = ctypes.c_double(x)\n",
    "    in_imag = ctypes.c_double(y)\n",
    "    out_real = np.empty(1, dtype=np.float64)\n",
    "    out_imag = np.empty(1, dtype=np.float64)\n",
    "    #dlls['c-root-adapt'].cerf(in_real, in_imag, out_real, out_imag)\n",
    "    dlls['c-root-adapt'].wofz(in_real, in_imag, out_real, out_imag)\n",
    "\n",
    "    #dlls['c-root-adapt'].cerf(x.ctypes.data, y.ctypes.data, out_real.ctypes.data, out_imag.ctypes.data)\n",
    "    return out_real[0], out_imag[0]\n",
    "#wofz_impl['c-root-adapt-novec'] = wofz_root\n",
    "wofz_impl['c-root-adapt'] = np.vectorize(wofz_root)"
   ]
  },
  {
   "cell_type": "markdown",
   "metadata": {},
   "source": [
    "### cernlib-root-adapted cython"
   ]
  },
  {
   "cell_type": "code",
   "execution_count": 20,
   "metadata": {
    "collapsed": true
   },
   "outputs": [],
   "source": [
    "sys.path.append('cernlib-root-adapted/')"
   ]
  },
  {
   "cell_type": "code",
   "execution_count": 21,
   "metadata": {
    "collapsed": false
   },
   "outputs": [],
   "source": [
    "#%%cython -l liberfc\n",
    "\n",
    "# cdef extern from \"erfc.h\":\n",
    "#     void cerfc(double*, double*, double*, double*)\n",
    "# def wofz_root_cython(x,y):\n",
    "#     z = 0\n",
    "#     for i in xrange(10):\n",
    "#         z = i + 1\n",
    "#     print z\n",
    "\n",
    "# dlls['c-root-adapt'] = ctypes.cdll.LoadLibrary('cernlib-root-adapted/liberfc.so')\n",
    "# dlls['c-root-adapt'].cerf.restype = None\n",
    "# dlls['c-root-adapt'].cerf.argtypes = [ctypes.c_double, ctypes.c_double, np_double_p, np_double_p]\n",
    "\n",
    "# def wofz_root(x, y):\n",
    "#     #in_real = ctypes.c_double(x)\n",
    "#     #in_imag = ctypes.c_double(y)\n",
    "#     out_real = np.empty(1, dtype=np.float64)\n",
    "#     out_imag = np.empty(1, dtype=np.float64)\n",
    "#     #dlls['c-root-adapt'].cerf(in_real, in_imag, out_real, out_imag)\n",
    "#     dlls['c-root-adapt'].cerf(x.ctypes.data, y.ctypes.data, out_real, out_imag)\n",
    "#     return out_real[0], out_imag[0]\n",
    "# wofz_impl['c-root-adapt'] = wofz_root#np.vectorize(wofz_root)"
   ]
  },
  {
   "cell_type": "markdown",
   "metadata": {},
   "source": [
    "### cernlib-root-adapted -DFAST_IMPL"
   ]
  },
  {
   "cell_type": "code",
   "execution_count": 22,
   "metadata": {
    "collapsed": false
   },
   "outputs": [],
   "source": [
    "dlls['c-root-adapt-fast'] = ctypes.cdll.LoadLibrary('cernlib-root-adapted/liberfc_fast.so')\n",
    "dlls['c-root-adapt-fast'].wofz.restype = None\n",
    "dlls['c-root-adapt-fast'].wofz.argtypes = [ctypes.c_double, ctypes.c_double, np_double_p, np_double_p]\n",
    "\n",
    "def wofz_root_fast(x, y):\n",
    "    in_real = ctypes.c_double(x)\n",
    "    in_imag = ctypes.c_double(y)\n",
    "    out_real = np.empty(1, dtype=np.float64)\n",
    "    out_imag = np.empty(1, dtype=np.float64)\n",
    "    dlls['c-root-adapt-fast'].wofz(in_real, in_imag, out_real, out_imag)\n",
    "    return out_real[0], out_imag[0]\n",
    "wofz_impl['c-root-adapt-fast'] = np.vectorize(wofz_root_fast)\n",
    "#wofz_impl['c-root-adapt-fast-novec'] = wofz_root_fast"
   ]
  },
  {
   "cell_type": "markdown",
   "metadata": {},
   "source": [
    "### cernlib-root-adapted -DSINCOS"
   ]
  },
  {
   "cell_type": "code",
   "execution_count": 23,
   "metadata": {
    "collapsed": true
   },
   "outputs": [],
   "source": [
    "dlls['c-root-adapt-sincos'] = ctypes.cdll.LoadLibrary('cernlib-root-adapted/liberfc_sincos.so')\n",
    "dlls['c-root-adapt-sincos'].wofz.restype = None\n",
    "dlls['c-root-adapt-sincos'].wofz.argtypes = [ctypes.c_double, ctypes.c_double, np_double_p, np_double_p]\n",
    "\n",
    "def wofz_root_sincos(x, y):\n",
    "    in_real = ctypes.c_double(x)\n",
    "    in_imag = ctypes.c_double(y)\n",
    "    out_real = np.empty(1, dtype=np.float64)\n",
    "    out_imag = np.empty(1, dtype=np.float64)\n",
    "    dlls['c-root-adapt-sincos'].wofz(in_real, in_imag, out_real, out_imag)\n",
    "    return out_real[0], out_imag[0]\n",
    "wofz_impl['c-root-adapt-sincos'] = np.vectorize(wofz_root_sincos)\n",
    "#wofz_impl['c-root-adapt-sincos-novec'] = wofz_root_sincos"
   ]
  },
  {
   "cell_type": "markdown",
   "metadata": {
    "collapsed": true
   },
   "source": [
    "## II. Accuracy Benchmark"
   ]
  },
  {
   "cell_type": "markdown",
   "metadata": {},
   "source": [
    "### dirty hands-on, just trying what happens:"
   ]
  },
  {
   "cell_type": "code",
   "execution_count": 53,
   "metadata": {
    "collapsed": false
   },
   "outputs": [],
   "source": [
    "params = (np.asarray(30,dtype=np.float64), np.asarray(20, dtype=np.float64)) #works\n",
    "#params = (np.asarray(0.,dtype=np.float64), np.asarray(0., dtype=np.float64)) #works\n",
    "#params = (-1.,-1.) #works"
   ]
  },
  {
   "cell_type": "code",
   "execution_count": 54,
   "metadata": {
    "collapsed": false
   },
   "outputs": [
    {
     "data": {
      "text/plain": [
       "(0.0086857475260039233, 0.013018597209205647)"
      ]
     },
     "execution_count": 54,
     "metadata": {},
     "output_type": "execute_result"
    }
   ],
   "source": [
    "wofz_impl['scipy'](*(params))"
   ]
  },
  {
   "cell_type": "code",
   "execution_count": 55,
   "metadata": {
    "collapsed": false
   },
   "outputs": [
    {
     "data": {
      "text/plain": [
       "(array(0.008685747526003906), array(0.01301859720920563))"
      ]
     },
     "execution_count": 55,
     "metadata": {},
     "output_type": "execute_result"
    }
   ],
   "source": [
    "wofz_impl['c'](*(params))"
   ]
  },
  {
   "cell_type": "code",
   "execution_count": 56,
   "metadata": {
    "collapsed": false
   },
   "outputs": [
    {
     "data": {
      "text/plain": [
       "(array([ 0.00868575]), array([ 0.0130186]))"
      ]
     },
     "execution_count": 56,
     "metadata": {},
     "output_type": "execute_result"
    }
   ],
   "source": [
    "wofz_impl['cuda'](*(params))"
   ]
  },
  {
   "cell_type": "code",
   "execution_count": 57,
   "metadata": {
    "collapsed": false
   },
   "outputs": [
    {
     "data": {
      "text/plain": [
       "(array(0.008685747977352332), array(0.013018597885707374))"
      ]
     },
     "execution_count": 57,
     "metadata": {},
     "output_type": "execute_result"
    }
   ],
   "source": [
    "wofz_impl['f90-1'](*(params))"
   ]
  },
  {
   "cell_type": "code",
   "execution_count": 58,
   "metadata": {
    "collapsed": false
   },
   "outputs": [
    {
     "data": {
      "text/plain": [
       "(array(0.008685747526003906), array(0.01301859720920563))"
      ]
     },
     "execution_count": 58,
     "metadata": {},
     "output_type": "execute_result"
    }
   ],
   "source": [
    "wofz_impl['f90-2'](*(params))"
   ]
  },
  {
   "cell_type": "code",
   "execution_count": 59,
   "metadata": {
    "collapsed": false
   },
   "outputs": [
    {
     "data": {
      "text/plain": [
       "(array(0.008727144975121367), array(0.013010241613084153))"
      ]
     },
     "execution_count": 59,
     "metadata": {},
     "output_type": "execute_result"
    }
   ],
   "source": [
    "wofz_impl['py'](*(params))"
   ]
  },
  {
   "cell_type": "code",
   "execution_count": 60,
   "metadata": {
    "collapsed": false
   },
   "outputs": [
    {
     "data": {
      "text/plain": [
       "(array(0.008685747526003929), array(0.013018597209205661))"
      ]
     },
     "execution_count": 60,
     "metadata": {},
     "output_type": "execute_result"
    }
   ],
   "source": [
    "wofz_impl['c-root-adapt'](params[0], params[1])"
   ]
  },
  {
   "cell_type": "code",
   "execution_count": 61,
   "metadata": {
    "collapsed": false
   },
   "outputs": [
    {
     "data": {
      "text/plain": [
       "(array(0.008685747528968689), array(0.01301859721119367))"
      ]
     },
     "execution_count": 61,
     "metadata": {},
     "output_type": "execute_result"
    }
   ],
   "source": [
    "wofz_impl['c-root-adapt-fast'](*(params))"
   ]
  },
  {
   "cell_type": "code",
   "execution_count": 62,
   "metadata": {
    "collapsed": false
   },
   "outputs": [
    {
     "data": {
      "text/plain": [
       "(array(0.008685747526003929), array(0.013018597209205661))"
      ]
     },
     "execution_count": 62,
     "metadata": {},
     "output_type": "execute_result"
    }
   ],
   "source": [
    "wofz_impl['c-root-adapt-sincos'](*(params))"
   ]
  },
  {
   "cell_type": "markdown",
   "metadata": {},
   "source": [
    "### Accuracy within range 10^-8 to 10^8\n",
    "\n",
    "(outside of this, the `mpmath` multiplications of extremely large and small factors do not behave well)"
   ]
  },
  {
   "cell_type": "code",
   "execution_count": 64,
   "metadata": {
    "collapsed": false
   },
   "outputs": [],
   "source": [
    "import matplotlib.pyplot as plt\n",
    "import seaborn as sns\n",
    "import matplotlib\n",
    "from matplotlib.colors import LogNorm\n",
    "%matplotlib inline\n",
    "\n",
    "sns.set_style(\"white\")\n",
    "cmap = matplotlib.colors.ListedColormap(sns.color_palette(\"Blues\", 256))\n",
    "cmap2 = matplotlib.colors.ListedColormap(sns.cubehelix_palette(8, 256))"
   ]
  },
  {
   "cell_type": "markdown",
   "metadata": {},
   "source": [
    "define range:"
   ]
  },
  {
   "cell_type": "code",
   "execution_count": 66,
   "metadata": {
    "collapsed": true
   },
   "outputs": [],
   "source": [
    "exp_min = -8\n",
    "exp_max = 8\n",
    "\n",
    "r = 10**np.linspace(exp_min, exp_max, 101)\n",
    "x, y = np.meshgrid(r, r)"
   ]
  },
  {
   "cell_type": "markdown",
   "metadata": {},
   "source": [
    "the reference values via `mpmath`:"
   ]
  },
  {
   "cell_type": "code",
   "execution_count": 67,
   "metadata": {
    "collapsed": false
   },
   "outputs": [],
   "source": [
    "wr_ref, wi_ref = wofz_impl['mp'](x, y)"
   ]
  },
  {
   "cell_type": "code",
   "execution_count": 68,
   "metadata": {
    "collapsed": false,
    "scrolled": false
   },
   "outputs": [
    {
     "data": {
      "image/png": "[encoded data removed]",
      "text/plain": [
       "<matplotlib.figure.Figure at 0x7f3623ff2550>"
      ]
     },
     "metadata": {},
     "output_type": "display_data"
    }
   ],
   "source": [
    "def plot_image(x,y,z, title, unify=True):\n",
    "    plt.figure()\n",
    "    if unify:\n",
    "        z = np.clip(a=z, a_min=1e-17, a_max=1e0)\n",
    "        im = plt.imshow(\n",
    "                   #np.vectorize(mpmath.log10)(z).astype(np.float64),\n",
    "                   z.astype(np.float64),\n",
    "                   origin=\"bottom\",extent=[exp_min,exp_max,exp_min,exp_max],aspect='auto',\n",
    "                   vmin=1e-17, vmax=1e0, norm=LogNorm(),\n",
    "                   cmap=cmap2)\n",
    "    else:\n",
    "        im = plt.imshow(np.vectorize(mpmath.log10)(z).astype(np.float64),\n",
    "                       origin=\"bottom\",extent=[exp_min,exp_max,exp_min,exp_max],aspect='auto',\n",
    "                       cmap=cmap2)\n",
    "        \n",
    "    plt.colorbar(im)\n",
    "    plt.suptitle(title)\n",
    "\n",
    "test = True\n",
    "if test is True:\n",
    "    wr, wi = wofz_impl['c'](x, y)\n",
    "    z = abs(wr - wr_ref)/wr_ref\n",
    "    plot_image(x,y,z, title='c',unify=True)\n",
    "    "
   ]
  },
  {
   "cell_type": "code",
   "execution_count": 69,
   "metadata": {
    "collapsed": false
   },
   "outputs": [
    {
     "data": {
      "image/png": "[encoded data removed]",
      "text/plain": [
       "<matplotlib.figure.Figure at 0x7f35dd4fe7d0>"
      ]
     },
     "metadata": {},
     "output_type": "display_data"
    },
    {
     "data": {
      "image/png": "[encoded data removed]",
      "text/plain": [
       "<matplotlib.figure.Figure at 0x7f35bef9ea10>"
      ]
     },
     "metadata": {},
     "output_type": "display_data"
    },
    {
     "data": {
      "image/png": "[encoded data removed]",
      "text/plain": [
       "<matplotlib.figure.Figure at 0x7f35bcd98390>"
      ]
     },
     "metadata": {},
     "output_type": "display_data"
    },
    {
     "data": {
      "image/png": "[encoded data removed]",
      "text/plain": [
       "<matplotlib.figure.Figure at 0x7f35cb36d610>"
      ]
     },
     "metadata": {},
     "output_type": "display_data"
    },
    {
     "data": {
      "image/png": "[encoded data removed]",
      "text/plain": [
       "<matplotlib.figure.Figure at 0x7f35cba6bdd0>"
      ]
     },
     "metadata": {},
     "output_type": "display_data"
    },
    {
     "data": {
      "image/png": "[encoded data removed]",
      "text/plain": [
       "<matplotlib.figure.Figure at 0x7f35be754a10>"
      ]
     },
     "metadata": {},
     "output_type": "display_data"
    },
    {
     "data": {
      "image/png": "[encoded data removed]",
      "text/plain": [
       "<matplotlib.figure.Figure at 0x7f35cb44bb90>"
      ]
     },
     "metadata": {},
     "output_type": "display_data"
    },
    {
     "data": {
      "image/png": "[encoded data removed]",
      "text/plain": [
       "<matplotlib.figure.Figure at 0x7f35bef62f90>"
      ]
     },
     "metadata": {},
     "output_type": "display_data"
    },
    {
     "data": {
      "image/png": "[encoded data removed]",
      "text/plain": [
       "<matplotlib.figure.Figure at 0x7f35be928d90>"
      ]
     },
     "metadata": {},
     "output_type": "display_data"
    },
    {
     "data": {
      "image/png": "[encoded data removed]",
      "text/plain": [
       "<matplotlib.figure.Figure at 0x7f35bef4b0d0>"
      ]
     },
     "metadata": {},
     "output_type": "display_data"
    }
   ],
   "source": [
    "for implementation, function in wofz_impl.iteritems():\n",
    "    wr, wi = function(x, y)\n",
    "    z = abs(wr - wr_ref)/wr_ref\n",
    "    plot_image(x,y,z, title=implementation, unify=True)\n"
   ]
  },
  {
   "cell_type": "markdown",
   "metadata": {},
   "source": [
    "## III. Timing Benchmark\n",
    "\n",
    "to be provided"
   ]
  },
  {
   "cell_type": "code",
   "execution_count": null,
   "metadata": {
    "collapsed": true
   },
   "outputs": [],
   "source": []
  },
  {
   "cell_type": "code",
   "execution_count": 39,
   "metadata": {
    "collapsed": false
   },
   "outputs": [],
   "source": [
    "def timeit(x,y, nrep=5):\n",
    "    '''Time the implementation on the arrays x,y = x +iy'''\n",
    "    timings = np.zeros(nrep)\n",
    "    for implementation, function in wofz_impl.iteritems():\n",
    "        #print implementation, function\n",
    "        if implementation is not 'mpmath':\n",
    "            for i in xrange(nrep):\n",
    "                with Timer() as t:\n",
    "                    wr, wi = function(x, y)\n",
    "                timings[i] = t.interval_s\n",
    "            print implementation, function, np.mean(timings) #timings\n",
    "        \n",
    "    "
   ]
  },
  {
   "cell_type": "code",
   "execution_count": 40,
   "metadata": {
    "collapsed": false
   },
   "outputs": [
    {
     "name": "stdout",
     "output_type": "stream",
     "text": [
      "c <numpy.lib.function_base.vectorize object at 0x7f35dd57f910> 0.0338628292084\n",
      "c-root-adapt-fast <numpy.lib.function_base.vectorize object at 0x7f361705c390> 0.0268850326538\n",
      "py <numpy.lib.function_base.vectorize object at 0x7f3617046d90> 0.0459010601044\n",
      "f90-2 <numpy.lib.function_base.vectorize object at 0x7f3617046c90> 0.000845909118652\n",
      "f90-1 <numpy.lib.function_base.vectorize object at 0x7f3617046b90> 0.000808000564575\n",
      "scipy <function wofz at 0x7f35dd577aa0> 0.000550985336304\n",
      "mp <numpy.lib.function_base.vectorize object at 0x7f35dd5a2750> 2.40054702759\n",
      "c-root-adapt <numpy.lib.function_base.vectorize object at 0x7f3617059250> 0.0269000530243\n",
      "c-root-adapt-sincos <numpy.lib.function_base.vectorize object at 0x7f361705c450> 0.0263910293579\n",
      "cuda <function wofz at 0x7f361704bc08> 0.00125598907471\n"
     ]
    }
   ],
   "source": [
    "N = 1000\n",
    "np.random.seed(0)\n",
    "xx = np.random.normal(0.0, 4., N)\n",
    "yy = np.random.normal(0.0, 4., N)\n",
    "timeit(xx,yy, nrep=1)"
   ]
  },
  {
   "cell_type": "code",
   "execution_count": 41,
   "metadata": {
    "collapsed": false
   },
   "outputs": [
    {
     "name": "stdout",
     "output_type": "stream",
     "text": [
      "<type 'numpy.ndarray'>\n",
      "c <numpy.lib.function_base.vectorize object at 0x7f35dd57f910> 0.000276334285736\n",
      "c-root-adapt-fast <numpy.lib.function_base.vectorize object at 0x7f361705c390> 0.000270586013794\n",
      "py <numpy.lib.function_base.vectorize object at 0x7f3617046d90> 0.000200097560883\n",
      "f90-2 <numpy.lib.function_base.vectorize object at 0x7f3617046c90> 5.10668754578e-05\n",
      "f90-1 <numpy.lib.function_base.vectorize object at 0x7f3617046b90> 5.09452819824e-05\n",
      "scipy <function wofz at 0x7f35dd577aa0> 1.55305862427e-05\n",
      "mp <numpy.lib.function_base.vectorize object at 0x7f35dd5a2750> 0.0174991583824\n",
      "c-root-adapt <numpy.lib.function_base.vectorize object at 0x7f3617059250> 0.00032753944397\n",
      "c-root-adapt-sincos <numpy.lib.function_base.vectorize object at 0x7f361705c450> 0.000325598716736\n",
      "cuda <function wofz at 0x7f361704bc08> 0.000962429046631\n"
     ]
    },
    {
     "name": "stderr",
     "output_type": "stream",
     "text": [
      "/home/shegglin/miniconda/lib/python2.7/site-packages/ipykernel/__main__.py:5: DeprecationWarning: using a non-integer number instead of an integer will result in an error in the future\n",
      "/home/shegglin/miniconda/lib/python2.7/site-packages/ipykernel/__main__.py:6: DeprecationWarning: using a non-integer number instead of an integer will result in an error in the future\n"
     ]
    }
   ],
   "source": [
    "N = 1\n",
    "np.random.seed(0)\n",
    "xx = np.random.normal(0.0, 4., N)\n",
    "yy = np.random.normal(0.0, 4., N)\n",
    "xx = np.ndarray(xx, dtype=np.float64)\n",
    "yy = np.ndarray(yy, dtype=np.float64)\n",
    "print type(xx)\n",
    "timeit(xx,yy, nrep=100)"
   ]
  },
  {
   "cell_type": "code",
   "execution_count": 42,
   "metadata": {
    "collapsed": false
   },
   "outputs": [
    {
     "name": "stdout",
     "output_type": "stream",
     "text": [
      " "
     ]
    }
   ],
   "source": [
    "x = np.random.normal(0., 1., 100000)\n",
    "y = np.random.normal(0., 1., 100000)\n",
    "\n",
    "stats = %prun -r wofz_impl['c-root-adapt'](x,y)\n"
   ]
  },
  {
   "cell_type": "code",
   "execution_count": null,
   "metadata": {
    "collapsed": true
   },
   "outputs": [],
   "source": []
  }
 ],
 "metadata": {
  "kernelspec": {
   "display_name": "Python 2",
   "language": "python",
   "name": "python2"
  },
  "language_info": {
   "codemirror_mode": {
    "name": "ipython",
    "version": 2
   },
   "file_extension": ".py",
   "mimetype": "text/x-python",
   "name": "python",
   "nbconvert_exporter": "python",
   "pygments_lexer": "ipython2",
   "version": "2.7.11"
  }
 },
 "nbformat": 4,
 "nbformat_minor": 0
}
