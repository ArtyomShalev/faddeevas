{
 "cells": [
  {
   "cell_type": "markdown",
   "metadata": {},
   "source": [
    "# Benchmarking of various implementations of FADDEEVA's error functions"
   ]
  },
  {
   "cell_type": "markdown",
   "metadata": {},
   "source": [
    "## I. Setup"
   ]
  },
  {
   "cell_type": "code",
   "execution_count": 2,
   "metadata": {
    "collapsed": true
   },
   "outputs": [],
   "source": [
    "import numpy as np\n",
    "from numpy.ctypeslib import ndpointer\n",
    "import scipy\n",
    "import ctypes\n",
    "import sys"
   ]
  },
  {
   "cell_type": "markdown",
   "metadata": {},
   "source": [
    "The dictionary `wofz_impl` accesses the various function implementations.\n",
    "\n",
    "Input interface is `wofz_impl[<implementation-folder>](x, y)`: \n",
    "`x` is the real and `y` is the imaginary part of the input, both should be numpy arrays (i.e. provide the ctypes field)."
   ]
  },
  {
   "cell_type": "code",
   "execution_count": 3,
   "metadata": {
    "collapsed": true
   },
   "outputs": [],
   "source": [
    "wofz_impl = dict()"
   ]
  },
  {
   "cell_type": "markdown",
   "metadata": {},
   "source": [
    "For argument types needing double pointers, use the ctypes pointer provided by NumPy:"
   ]
  },
  {
   "cell_type": "code",
   "execution_count": 4,
   "metadata": {
    "collapsed": true
   },
   "outputs": [],
   "source": [
    "np_double_p = ndpointer(dtype=np.float64)"
   ]
  },
  {
   "cell_type": "markdown",
   "metadata": {},
   "source": [
    "`ctypes` libraries are loaded into the dictionary `dlls`:"
   ]
  },
  {
   "cell_type": "code",
   "execution_count": 5,
   "metadata": {
    "collapsed": true
   },
   "outputs": [],
   "source": [
    "dlls = dict()"
   ]
  },
  {
   "cell_type": "markdown",
   "metadata": {},
   "source": [
    "### scipy\n",
    "\n",
    "http://ab-initio.mit.edu/wiki/index.php/Faddeeva_Package"
   ]
  },
  {
   "cell_type": "code",
   "execution_count": 6,
   "metadata": {
    "collapsed": false
   },
   "outputs": [],
   "source": [
    "from scipy.special import wofz as scipy_wofz"
   ]
  },
  {
   "cell_type": "markdown",
   "metadata": {},
   "source": [
    "prepare the `wofz_impl` entry:"
   ]
  },
  {
   "cell_type": "code",
   "execution_count": 7,
   "metadata": {
    "collapsed": true
   },
   "outputs": [],
   "source": [
    "def wofz(x, y):\n",
    "    z = scipy_wofz(x + 1j*y)\n",
    "    return z.real, z.imag\n",
    "wofz_impl['scipy'] = wofz"
   ]
  },
  {
   "cell_type": "markdown",
   "metadata": {},
   "source": [
    "### cernlib-c-1"
   ]
  },
  {
   "cell_type": "markdown",
   "metadata": {},
   "source": [
    "loading the external shared C library:"
   ]
  },
  {
   "cell_type": "code",
   "execution_count": 8,
   "metadata": {
    "collapsed": false
   },
   "outputs": [],
   "source": [
    "dlls['c-1'] = ctypes.cdll.LoadLibrary('cernlib-c-1/wofz.so')\n",
    "dlls['c-1'].errf.restype = None\n",
    "dlls['c-1'].errf.argtypes = [np_double_p, np_double_p, np_double_p, np_double_p]"
   ]
  },
  {
   "cell_type": "markdown",
   "metadata": {},
   "source": [
    "prepare the `wofz_impl` entry:"
   ]
  },
  {
   "cell_type": "code",
   "execution_count": 9,
   "metadata": {
    "collapsed": false
   },
   "outputs": [],
   "source": [
    "def wofz(x, y):\n",
    "    in_real = np.atleast_1d(x).astype(np.float64)\n",
    "    in_imag = np.atleast_1d(y).astype(np.float64)\n",
    "    out_real = np.empty(1, dtype=np.float64)\n",
    "    out_imag = np.empty(1, dtype=np.float64)\n",
    "    dlls['c-1'].errf(in_real, in_imag, out_real, out_imag)\n",
    "    return out_real[0], out_imag[0]\n",
    "wofz_impl['c-1'] = wofz"
   ]
  },
  {
   "cell_type": "markdown",
   "metadata": {},
   "source": [
    "### cernlib-c-2"
   ]
  },
  {
   "cell_type": "markdown",
   "metadata": {},
   "source": [
    "loading the external shared C library:"
   ]
  },
  {
   "cell_type": "code",
   "execution_count": 10,
   "metadata": {
    "collapsed": true
   },
   "outputs": [],
   "source": [
    "dlls['c-2'] = ctypes.cdll.LoadLibrary('cernlib-c-2/wofz.so')\n",
    "dlls['c-2'].cerrf.restype = None\n",
    "dlls['c-2'].cerrf.argtypes = [ctypes.c_double, ctypes.c_double, np_double_p, np_double_p]"
   ]
  },
  {
   "cell_type": "markdown",
   "metadata": {},
   "source": [
    "prepare the `wofz_impl` entry:"
   ]
  },
  {
   "cell_type": "code",
   "execution_count": 11,
   "metadata": {
    "collapsed": false
   },
   "outputs": [],
   "source": [
    "def wofz(x, y):\n",
    "    in_real = ctypes.c_double(x)\n",
    "    in_imag = ctypes.c_double(y)\n",
    "    out_real = np.empty(1, dtype=np.float64)\n",
    "    out_imag = np.empty(1, dtype=np.float64)\n",
    "    dlls['c-2'].cerrf(in_real, in_imag, out_real, out_imag)\n",
    "    return out_real[0], out_imag[0]\n",
    "wofz_impl['c-2'] = wofz"
   ]
  },
  {
   "cell_type": "markdown",
   "metadata": {},
   "source": [
    "### cernlib-cuda-1"
   ]
  },
  {
   "cell_type": "markdown",
   "metadata": {},
   "source": [
    "try whether PyCUDA is available for the CUDA FADDEEVA version:"
   ]
  },
  {
   "cell_type": "code",
   "execution_count": 12,
   "metadata": {
    "collapsed": false
   },
   "outputs": [],
   "source": [
    "i_pycuda = False\n",
    "try:\n",
    "    from pycuda.autoinit import context\n",
    "    from pycuda import gpuarray\n",
    "    from pycuda.elementwise import ElementwiseKernel\n",
    "    i_pycuda = True\n",
    "except ImportError as e:\n",
    "    print 'No PyCUDA available, as per error message:'\n",
    "    print e.message"
   ]
  },
  {
   "cell_type": "markdown",
   "metadata": {},
   "source": [
    "prepare the CUDA kernel for the wofz function:"
   ]
  },
  {
   "cell_type": "code",
   "execution_count": 13,
   "metadata": {
    "collapsed": false
   },
   "outputs": [],
   "source": [
    "if i_pycuda:\n",
    "    kernel = ElementwiseKernel(\n",
    "        'double* in_real, double* in_imag, double* out_real, double* out_imag',\n",
    "#         'out_real[i] = in_real[i]; out_imag[i] = in_imag[i]',\n",
    "        'wofz(in_real[i], in_imag[i], &out_real[i], &out_imag[i]);',\n",
    "        'wofz_kernel',\n",
    "        preamble=open('cernlib-cuda-1/wofz.cu', 'r').read()\n",
    "    )"
   ]
  },
  {
   "cell_type": "markdown",
   "metadata": {},
   "source": [
    "prepare the `wofz_impl` entry:"
   ]
  },
  {
   "cell_type": "code",
   "execution_count": 14,
   "metadata": {
    "collapsed": true
   },
   "outputs": [],
   "source": [
    "if i_pycuda:\n",
    "    def wofz(x, y):\n",
    "        in_real = gpuarray.to_gpu(np.atleast_1d(x).astype(np.float64))\n",
    "        in_imag = gpuarray.to_gpu(np.atleast_1d(y).astype(np.float64))\n",
    "        out_real = gpuarray.empty(1, dtype=np.float64)\n",
    "        out_imag = gpuarray.empty(1, dtype=np.float64)\n",
    "        kernel(in_real, in_imag, out_real, out_imag)\n",
    "        return out_real.get()[0], out_imag.get()[0]\n",
    "    wofz_impl['cuda'] = wofz"
   ]
  },
  {
   "cell_type": "markdown",
   "metadata": {},
   "source": [
    "### cernlib-f90-1"
   ]
  },
  {
   "cell_type": "markdown",
   "metadata": {},
   "source": [
    "import and numpy-vectorise the first f90 version:"
   ]
  },
  {
   "cell_type": "code",
   "execution_count": 15,
   "metadata": {
    "collapsed": false
   },
   "outputs": [],
   "source": [
    "sys.path.append('cernlib-f90-1')\n",
    "from wwerf import ccperrfr\n",
    "\n",
    "wofz_impl['f90-1'] = np.vectorize(ccperrfr)"
   ]
  },
  {
   "cell_type": "markdown",
   "metadata": {},
   "source": [
    "### cernlib-f90-2"
   ]
  },
  {
   "cell_type": "markdown",
   "metadata": {},
   "source": [
    "import and numpy-vectorise the second f90 version:"
   ]
  },
  {
   "cell_type": "code",
   "execution_count": 16,
   "metadata": {
    "collapsed": false
   },
   "outputs": [],
   "source": [
    "sys.path.append('cernlib-f90-2')\n",
    "from wwerf2 import errf\n",
    "\n",
    "wofz_impl['f90-2'] = np.vectorize(errf)"
   ]
  },
  {
   "cell_type": "markdown",
   "metadata": {},
   "source": [
    "### cernlib-python-1"
   ]
  },
  {
   "cell_type": "code",
   "execution_count": 26,
   "metadata": {
    "collapsed": true
   },
   "outputs": [],
   "source": [
    "sys.path.append('cernlib-python-1')\n",
    "from mywwerf import wwerf\n",
    "\n",
    "wofz_impl['py'] = np.vectorize(wwerf)"
   ]
  },
  {
   "cell_type": "markdown",
   "metadata": {},
   "source": [
    "### high precision library for error function\n",
    "\n",
    "to be added"
   ]
  },
  {
   "cell_type": "markdown",
   "metadata": {
    "collapsed": true
   },
   "source": [
    "# II. Accuracy Benchmark"
   ]
  },
  {
   "cell_type": "markdown",
   "metadata": {},
   "source": [
    "## dirty hands-on, just trying what happens:"
   ]
  },
  {
   "cell_type": "code",
   "execution_count": 18,
   "metadata": {
    "collapsed": false
   },
   "outputs": [
    {
     "data": {
      "text/plain": [
       "(0.092710766426443436, 0.12831696222826169)"
      ]
     },
     "execution_count": 18,
     "metadata": {},
     "output_type": "execute_result"
    }
   ],
   "source": [
    "wofz_impl['scipy'](3, 2)"
   ]
  },
  {
   "cell_type": "code",
   "execution_count": 19,
   "metadata": {
    "collapsed": false
   },
   "outputs": [
    {
     "data": {
      "text/plain": [
       "(0.17737693471415558, 0.30315008341851968)"
      ]
     },
     "execution_count": 19,
     "metadata": {},
     "output_type": "execute_result"
    }
   ],
   "source": [
    "wofz_impl['c-1'](3, 2)"
   ]
  },
  {
   "cell_type": "markdown",
   "metadata": {},
   "source": [
    "### ^^^!!! cernlib-c-1 produces weird stuff. I (Adrian) found some differences compared to cernlib-c-2 but this does not seem to be all yet!"
   ]
  },
  {
   "cell_type": "code",
   "execution_count": 20,
   "metadata": {
    "collapsed": false
   },
   "outputs": [
    {
     "data": {
      "text/plain": [
       "(0.092710766426443145, 0.12831696222826672)"
      ]
     },
     "execution_count": 20,
     "metadata": {},
     "output_type": "execute_result"
    }
   ],
   "source": [
    "wofz_impl['c-2'](3, 2)"
   ]
  },
  {
   "cell_type": "code",
   "execution_count": 21,
   "metadata": {
    "collapsed": false
   },
   "outputs": [
    {
     "data": {
      "text/plain": [
       "(0.092710766426443145, 0.12831696222826672)"
      ]
     },
     "execution_count": 21,
     "metadata": {},
     "output_type": "execute_result"
    }
   ],
   "source": [
    "wofz_impl['cuda'](3, 2)"
   ]
  },
  {
   "cell_type": "code",
   "execution_count": 22,
   "metadata": {
    "collapsed": false
   },
   "outputs": [
    {
     "data": {
      "text/plain": [
       "(array(0.09271077124408933), array(0.12831696889616245))"
      ]
     },
     "execution_count": 22,
     "metadata": {},
     "output_type": "execute_result"
    }
   ],
   "source": [
    "wofz_impl['f90-1'](3, 2)"
   ]
  },
  {
   "cell_type": "code",
   "execution_count": 23,
   "metadata": {
    "collapsed": false
   },
   "outputs": [
    {
     "data": {
      "text/plain": [
       "(array(0.09271076642644314), array(0.12831696222826672))"
      ]
     },
     "execution_count": 23,
     "metadata": {},
     "output_type": "execute_result"
    }
   ],
   "source": [
    "wofz_impl['f90-2'](3, 2)"
   ]
  },
  {
   "cell_type": "code",
   "execution_count": 24,
   "metadata": {
    "collapsed": false
   },
   "outputs": [
    {
     "data": {
      "text/plain": [
       "(0.057634864776266663, 0.035177087006951484)"
      ]
     },
     "execution_count": 24,
     "metadata": {},
     "output_type": "execute_result"
    }
   ],
   "source": [
    "wofz_impl['py'](3, 2)"
   ]
  },
  {
   "cell_type": "markdown",
   "metadata": {},
   "source": [
    "### ^^^ I guess this is due to being outside of the applicable limits of this approximation implementation\n",
    "\n",
    ".\n",
    "\n",
    ".\n",
    "\n",
    ".\n",
    "\n",
    "."
   ]
  },
  {
   "cell_type": "markdown",
   "metadata": {},
   "source": [
    "## plots from benchmark.py"
   ]
  },
  {
   "cell_type": "code",
   "execution_count": 29,
   "metadata": {
    "collapsed": false
   },
   "outputs": [],
   "source": [
    "from pylab import *\n",
    "%matplotlib inline\n",
    "wsci = wofz_impl['scipy']\n",
    "wf90 = wofz_impl['f90-1']\n",
    "wf = wofz_impl['f90-2']\n",
    "wpy = wofz_impl['py']"
   ]
  },
  {
   "cell_type": "code",
   "execution_count": 31,
   "metadata": {
    "collapsed": false
   },
   "outputs": [
    {
     "name": "stderr",
     "output_type": "stream",
     "text": [
      "/home/oeftiger/anaconda/lib/python2.7/site-packages/IPython/kernel/__main__.py:33: RuntimeWarning: divide by zero encountered in log10\n"
     ]
    },
    {
     "data": {
      "text/plain": [
       "1.2286989111690166e-08"
      ]
     },
     "execution_count": 31,
     "metadata": {},
     "output_type": "execute_result"
    },
    {
     "data": {
      "image/png": "[encoded data removed]",
      "text/plain": [
       "<matplotlib.figure.Figure at 0x7f4278867b50>"
      ]
     },
     "metadata": {},
     "output_type": "display_data"
    },
    {
     "data": {
      "image/png": "[encoded data removed]",
      "text/plain": [
       "<matplotlib.figure.Figure at 0x7f4274693990>"
      ]
     },
     "metadata": {},
     "output_type": "display_data"
    },
    {
     "data": {
      "image/png": "[encoded data removed]",
      "text/plain": [
       "<matplotlib.figure.Figure at 0x7f4278917e50>"
      ]
     },
     "metadata": {},
     "output_type": "display_data"
    },
    {
     "data": {
      "image/png": "[encoded data removed]",
      "text/plain": [
       "<matplotlib.figure.Figure at 0x7f4276badd10>"
      ]
     },
     "metadata": {},
     "output_type": "display_data"
    }
   ],
   "source": [
    "#https://github.com/PyCOMPLETE/PyHEADTAIL/master/spacecharge/spacecharge.py\n",
    "\n",
    "#http://www.bigdft.org/devel-doc/d0/dfa/wofz_8f90_source.html\n",
    "#http://www.bigdft.org/devel-doc/d0/dfa/wofz_8f90.html\n",
    "#http://dl.acm.org/citation.cfm?id=77629\n",
    "# latest\n",
    "#www.ccsenet.org/journal/index.php/jmr/article/viewFile/41877/24151 \n",
    "# http://ab-initio.mit.edu/wiki/index.php/Faddeeva_Package\n",
    "# arxiv.org/pdf/1407.0748 In root with source code\n",
    "\n",
    "\n",
    "r=15\n",
    "xx=10**linspace(-r,r,301)\n",
    "yy=10**linspace(-r,r,301)\n",
    "x,y=meshgrid(xx,yy)\n",
    "\n",
    "x1,y1=wsci(x,y)\n",
    "x2,y2=wf90(x,y)\n",
    "x3,y3=wf(x,y)\n",
    "\n",
    "clf();\n",
    "imshow(log10(abs(x1-x2)),origin=\"bottom\",extent=[-r,r,-r,r],aspect='auto')\n",
    "colorbar()\n",
    "\n",
    "\n",
    "figure()\n",
    "clf();imshow(x1);colorbar()\n",
    "figure()\n",
    "clf();imshow(x2);colorbar()\n",
    "\n",
    "\n",
    "clf();\n",
    "imshow(log10(abs(x1-x3)),origin=\"bottom\",extent=[-r,r,-r,r],aspect='auto')\n",
    "colorbar()\n",
    "figure()\n",
    "clf();imshow(x3);colorbar()\n",
    "\n",
    "ref90=[ (x,y)+wf90(x,y) for x in xx for y in yy]\n",
    "repy =[ (x,y)+wpy(x,y)  for x in xx for y in yy]\n",
    "resci=[ (x,y)+wsci(x,y) for x in xx for y in yy]\n",
    "\n",
    "(array(ref90)-array(resci)).std()"
   ]
  },
  {
   "cell_type": "code",
   "execution_count": 34,
   "metadata": {
    "collapsed": false
   },
   "outputs": [
    {
     "data": {
      "text/plain": [
       "<matplotlib.colorbar.Colorbar instance at 0x7f4277a89bd8>"
      ]
     },
     "execution_count": 34,
     "metadata": {},
     "output_type": "execute_result"
    },
    {
     "data": {
      "image/png": "[encoded data removed]",
      "text/plain": [
       "<matplotlib.figure.Figure at 0x7f4276f37c10>"
      ]
     },
     "metadata": {},
     "output_type": "display_data"
    }
   ],
   "source": [
    "x_c2, y_c2 = np.vectorize(wofz_impl['c-2'])(x, y)\n",
    "imshow(log10(abs(x1-x_c2)),origin=\"bottom\",extent=[-r,r,-r,r],aspect='auto')\n",
    "colorbar()"
   ]
  },
  {
   "cell_type": "markdown",
   "metadata": {},
   "source": [
    "# III. Timing Benchmark\n",
    "\n",
    "to be provided"
   ]
  },
  {
   "cell_type": "code",
   "execution_count": null,
   "metadata": {
    "collapsed": true
   },
   "outputs": [],
   "source": []
  }
 ],
 "metadata": {
  "kernelspec": {
   "display_name": "Python 2",
   "language": "python",
   "name": "python2"
  },
  "language_info": {
   "codemirror_mode": {
    "name": "ipython",
    "version": 2
   },
   "file_extension": ".py",
   "mimetype": "text/x-python",
   "name": "python",
   "nbconvert_exporter": "python",
   "pygments_lexer": "ipython2",
   "version": "2.7.10"
  }
 },
 "nbformat": 4,
 "nbformat_minor": 0
}
